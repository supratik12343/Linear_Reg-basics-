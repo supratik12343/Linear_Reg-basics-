{
 "cells": [
  {
   "cell_type": "code",
   "execution_count": 2,
   "id": "ad882c58",
   "metadata": {},
   "outputs": [],
   "source": [
    "import pandas as pd"
   ]
  },
  {
   "cell_type": "code",
   "execution_count": 8,
   "id": "acd23b57",
   "metadata": {},
   "outputs": [
    {
     "name": "stdout",
     "output_type": "stream",
     "text": [
      "NAME     {Kalpayan, SRC, Rateesh}\n",
      "Age                  {19, 20, 21}\n",
      "Marks                [90, 95, 85]\n",
      "dtype: object\n"
     ]
    }
   ],
   "source": [
    "import pandas as pd\n",
    "data={\"NAME\":{\"SRC\",\"Rateesh\",\"Kalpayan\"},\"Age\":{20,21,19},\"Marks\":[90,95,85]}\n",
    "ds=pd.Series(data)\n",
    "print(ds)"
   ]
  },
  {
   "cell_type": "code",
   "execution_count": 11,
   "id": "d13a6ce8",
   "metadata": {},
   "outputs": [
    {
     "name": "stdout",
     "output_type": "stream",
     "text": [
      "0     10\n",
      "1    100\n",
      "2     20\n",
      "3    200\n",
      "Name: Lord_SRC, dtype: int64\n",
      "a     20\n",
      "b    200\n",
      "c     30\n",
      "d    300\n",
      "Name: Lord_Rateesh, dtype: int64\n"
     ]
    }
   ],
   "source": [
    "import pandas as pod\n",
    "Lord_SRC=[10,100,20,200]\n",
    "Lord_Rateesh=[20,200,30,300]\n",
    "Lord_Kalpayan=[30,300,40,400]\n",
    "in1=[0,1,2,3]\n",
    "in2=[\"a\",\"b\",\"c\",\"d\"]\n",
    "ds=pod.Series(Lord_SRC,index=in1,name=\"Lord_SRC\")\n",
    "dw=pod.Series(Lord_Rateesh,index=in2,name=\"Lord_Rateesh\")\n",
    "print(ds)\n",
    "print(dw)   "
   ]
  },
  {
   "cell_type": "code",
   "execution_count": 29,
   "id": "6e538925",
   "metadata": {},
   "outputs": [
    {
     "name": "stdout",
     "output_type": "stream",
     "text": [
      "Virat        kohli\n",
      "Rohit       Sharma\n",
      "Ravindra    Jadeja\n",
      "Name: Cricketers, dtype: object\n"
     ]
    }
   ],
   "source": [
    "import pandas as pd\n",
    "import numpy as np\n",
    "metro=[\"Virat\",\"Rohit\",\"Ravindra\"]\n",
    "tc=[\"kohli\",\"Sharma\",\"Jadeja\"]\n",
    "s=[1,2,3]\n",
    "rt=pd.Series(tc,index=metro,name=\"Cricketers\")\n",
    "print(rt)\n",
    "\n"
   ]
  },
  {
   "cell_type": "code",
   "execution_count": 31,
   "id": "ee914eac",
   "metadata": {},
   "outputs": [
    {
     "name": "stdout",
     "output_type": "stream",
     "text": [
      "       Name  Age Country\n",
      "0     Virat   30   India\n",
      "1     Rohit   35   India\n",
      "2  Ravindra   32   India\n"
     ]
    }
   ],
   "source": [
    "##Dataframe(2d array like structure)\n",
    "import pandas as pd\n",
    "data={\"Name\":[\"Virat\",\"Rohit\",\"Ravindra\"],\"Age\":[30,35,32],\"Country\":[\"India\",\"India\",\"India\"]}\n",
    "df=pd.DataFrame(data)   \n",
    "print(df)"
   ]
  },
  {
   "cell_type": "code",
   "execution_count": 33,
   "id": "a577acad",
   "metadata": {},
   "outputs": [
    {
     "name": "stdout",
     "output_type": "stream",
     "text": [
      "       Name  Age Country\n",
      "0     Virat   30   India\n",
      "1     Rohit   35   India\n",
      "2  Ravindra   32   India\n"
     ]
    }
   ],
   "source": [
    "##Create a DataFrame from a list of dictionaries\n",
    "import pandas as pod\n",
    "data=[\n",
    "    {\"Name\":\"Virat\",\"Age\":30,\"Country\":\"India\"},\n",
    "    {\"Name\":\"Rohit\",\"Age\":35,\"Country\":\"India\"},        \n",
    "    {\"Name\":\"Ravindra\",\"Age\":32,\"Country\":\"India\"}\n",
    "]\n",
    "dr=pod.DataFrame(data)\n",
    "print(dr)"
   ]
  },
  {
   "cell_type": "code",
   "execution_count": 40,
   "id": "8ea2047b",
   "metadata": {},
   "outputs": [
    {
     "name": "stdout",
     "output_type": "stream",
     "text": [
      "     Transaction ID        Date Product Category  \\\n",
      "235           10236  2024-08-23  Home Appliances   \n",
      "236           10237  2024-08-24         Clothing   \n",
      "237           10238  2024-08-25            Books   \n",
      "238           10239  2024-08-26  Beauty Products   \n",
      "239           10240  2024-08-27           Sports   \n",
      "\n",
      "                                        Product Name  Units Sold  Unit Price  \\\n",
      "235  Nespresso Vertuo Next Coffee and Espresso Maker           1      159.99   \n",
      "236                        Nike Air Force 1 Sneakers           3       90.00   \n",
      "237           The Handmaid's Tale by Margaret Atwood           3       10.99   \n",
      "238             Sunday Riley Luna Sleeping Night Oil           1       55.00   \n",
      "239                       Yeti Rambler 20 oz Tumbler           2       29.99   \n",
      "\n",
      "     Total Revenue         Region Payment Method  \n",
      "235         159.99         Europe         PayPal  \n",
      "236         270.00           Asia     Debit Card  \n",
      "237          32.97  North America    Credit Card  \n",
      "238          55.00         Europe         PayPal  \n",
      "239          59.98           Asia    Credit Card  \n"
     ]
    }
   ],
   "source": [
    "import pandas as pd\n",
    "df=pd.read_csv(\"sales_data.csv\")\n",
    "\n",
    "print(df.tail(5))"
   ]
  },
  {
   "cell_type": "code",
   "execution_count": 43,
   "id": "1616f727",
   "metadata": {},
   "outputs": [
    {
     "data": {
      "text/plain": [
       "[{'Name': 'Virat', 'Age': 30, 'Country': 'India'},\n",
       " {'Name': 'Rohit', 'Age': 35, 'Country': 'India'},\n",
       " {'Name': 'Ravindra', 'Age': 32, 'Country': 'India'}]"
      ]
     },
     "execution_count": 43,
     "metadata": {},
     "output_type": "execute_result"
    }
   ],
   "source": [
    "data"
   ]
  },
  {
   "cell_type": "code",
   "execution_count": null,
   "id": "50d01db9",
   "metadata": {},
   "outputs": [
    {
     "data": {
      "text/html": [
       "<div>\n",
       "<style scoped>\n",
       "    .dataframe tbody tr th:only-of-type {\n",
       "        vertical-align: middle;\n",
       "    }\n",
       "\n",
       "    .dataframe tbody tr th {\n",
       "        vertical-align: top;\n",
       "    }\n",
       "\n",
       "    .dataframe thead th {\n",
       "        text-align: right;\n",
       "    }\n",
       "</style>\n",
       "<table border=\"1\" class=\"dataframe\">\n",
       "  <thead>\n",
       "    <tr style=\"text-align: right;\">\n",
       "      <th></th>\n",
       "      <th>Name</th>\n",
       "      <th>Age</th>\n",
       "      <th>Country</th>\n",
       "    </tr>\n",
       "  </thead>\n",
       "  <tbody>\n",
       "    <tr>\n",
       "      <th>0</th>\n",
       "      <td>Virat</td>\n",
       "      <td>30</td>\n",
       "      <td>India</td>\n",
       "    </tr>\n",
       "    <tr>\n",
       "      <th>1</th>\n",
       "      <td>Rohit</td>\n",
       "      <td>35</td>\n",
       "      <td>India</td>\n",
       "    </tr>\n",
       "    <tr>\n",
       "      <th>2</th>\n",
       "      <td>Ravindra</td>\n",
       "      <td>32</td>\n",
       "      <td>India</td>\n",
       "    </tr>\n",
       "  </tbody>\n",
       "</table>\n",
       "</div>"
      ],
      "text/plain": [
       "       Name  Age Country\n",
       "0     Virat   30   India\n",
       "1     Rohit   35   India\n",
       "2  Ravindra   32   India"
      ]
     },
     "execution_count": 45,
     "metadata": {},
     "output_type": "execute_result"
    }
   ],
   "source": [
    "dr"
   ]
  },
  {
   "cell_type": "code",
   "execution_count": 7,
   "id": "36308a06",
   "metadata": {},
   "outputs": [
    {
     "name": "stdout",
     "output_type": "stream",
     "text": [
      "       Name  Age IPL teams\n",
      "0     Virat   30       RCB\n",
      "1     Rohit   35        MI\n",
      "2  Ravindra   32       CSK\n"
     ]
    }
   ],
   "source": [
    "import pandas as pd\n",
    "data = {\"Name\": [\"Virat\", \"Rohit\", \"Ravindra\"],\n",
    "        \"Age\": [30, 35, 32],\n",
    "        \"IPL teams\": [\"RCB\", \"MI\", \"CSK\"]}\n",
    "de=pd.DataFrame(data)\n",
    "print(de)\n"
   ]
  },
  {
   "cell_type": "code",
   "execution_count": 20,
   "id": "5a11dae4",
   "metadata": {},
   "outputs": [
    {
     "name": "stdout",
     "output_type": "stream",
     "text": [
      "       Name  Age IPL teams\n",
      "0     Virat   30        GT\n",
      "1     Rohit   35        MI\n",
      "2  Ravindra   32       CSK\n"
     ]
    }
   ],
   "source": [
    "de.iloc[0,2]=\"GT\"\n",
    "print(de)"
   ]
  },
  {
   "cell_type": "code",
   "execution_count": 21,
   "id": "bafb1c6b",
   "metadata": {},
   "outputs": [
    {
     "data": {
      "text/html": [
       "<div>\n",
       "<style scoped>\n",
       "    .dataframe tbody tr th:only-of-type {\n",
       "        vertical-align: middle;\n",
       "    }\n",
       "\n",
       "    .dataframe tbody tr th {\n",
       "        vertical-align: top;\n",
       "    }\n",
       "\n",
       "    .dataframe thead th {\n",
       "        text-align: right;\n",
       "    }\n",
       "</style>\n",
       "<table border=\"1\" class=\"dataframe\">\n",
       "  <thead>\n",
       "    <tr style=\"text-align: right;\">\n",
       "      <th></th>\n",
       "      <th>Name</th>\n",
       "      <th>Age</th>\n",
       "      <th>IPL teams</th>\n",
       "    </tr>\n",
       "  </thead>\n",
       "  <tbody>\n",
       "    <tr>\n",
       "      <th>0</th>\n",
       "      <td>Virat</td>\n",
       "      <td>30</td>\n",
       "      <td>GT</td>\n",
       "    </tr>\n",
       "    <tr>\n",
       "      <th>1</th>\n",
       "      <td>Rohit</td>\n",
       "      <td>35</td>\n",
       "      <td>MI</td>\n",
       "    </tr>\n",
       "    <tr>\n",
       "      <th>2</th>\n",
       "      <td>Ravindra</td>\n",
       "      <td>32</td>\n",
       "      <td>CSK</td>\n",
       "    </tr>\n",
       "  </tbody>\n",
       "</table>\n",
       "</div>"
      ],
      "text/plain": [
       "       Name  Age IPL teams\n",
       "0     Virat   30        GT\n",
       "1     Rohit   35        MI\n",
       "2  Ravindra   32       CSK"
      ]
     },
     "execution_count": 21,
     "metadata": {},
     "output_type": "execute_result"
    }
   ],
   "source": [
    "##Accesing a sp element using at and iat\n",
    "de"
   ]
  },
  {
   "cell_type": "code",
   "execution_count": 31,
   "id": "97e9a047",
   "metadata": {},
   "outputs": [
    {
     "data": {
      "text/plain": [
       "'Rohit'"
      ]
     },
     "execution_count": 31,
     "metadata": {},
     "output_type": "execute_result"
    }
   ],
   "source": [
    "de.iat[1,0]"
   ]
  },
  {
   "cell_type": "code",
   "execution_count": 32,
   "id": "b321c085",
   "metadata": {},
   "outputs": [
    {
     "data": {
      "text/html": [
       "<div>\n",
       "<style scoped>\n",
       "    .dataframe tbody tr th:only-of-type {\n",
       "        vertical-align: middle;\n",
       "    }\n",
       "\n",
       "    .dataframe tbody tr th {\n",
       "        vertical-align: top;\n",
       "    }\n",
       "\n",
       "    .dataframe thead th {\n",
       "        text-align: right;\n",
       "    }\n",
       "</style>\n",
       "<table border=\"1\" class=\"dataframe\">\n",
       "  <thead>\n",
       "    <tr style=\"text-align: right;\">\n",
       "      <th></th>\n",
       "      <th>Name</th>\n",
       "      <th>Age</th>\n",
       "      <th>IPL teams</th>\n",
       "    </tr>\n",
       "  </thead>\n",
       "  <tbody>\n",
       "    <tr>\n",
       "      <th>0</th>\n",
       "      <td>Virat</td>\n",
       "      <td>30</td>\n",
       "      <td>GT</td>\n",
       "    </tr>\n",
       "    <tr>\n",
       "      <th>1</th>\n",
       "      <td>Rohit</td>\n",
       "      <td>35</td>\n",
       "      <td>MI</td>\n",
       "    </tr>\n",
       "    <tr>\n",
       "      <th>2</th>\n",
       "      <td>Ravindra</td>\n",
       "      <td>32</td>\n",
       "      <td>CSK</td>\n",
       "    </tr>\n",
       "  </tbody>\n",
       "</table>\n",
       "</div>"
      ],
      "text/plain": [
       "       Name  Age IPL teams\n",
       "0     Virat   30        GT\n",
       "1     Rohit   35        MI\n",
       "2  Ravindra   32       CSK"
      ]
     },
     "execution_count": 32,
     "metadata": {},
     "output_type": "execute_result"
    }
   ],
   "source": [
    "##Data Manipulation with DataFrame\n",
    "de"
   ]
  },
  {
   "cell_type": "code",
   "execution_count": 42,
   "id": "c10bbc2d",
   "metadata": {},
   "outputs": [
    {
     "data": {
      "text/plain": [
       "'CSK'"
      ]
     },
     "execution_count": 42,
     "metadata": {},
     "output_type": "execute_result"
    }
   ],
   "source": [
    "de.iat[2,2]"
   ]
  },
  {
   "cell_type": "code",
   "execution_count": 43,
   "id": "76f8b103",
   "metadata": {},
   "outputs": [
    {
     "data": {
      "text/html": [
       "<div>\n",
       "<style scoped>\n",
       "    .dataframe tbody tr th:only-of-type {\n",
       "        vertical-align: middle;\n",
       "    }\n",
       "\n",
       "    .dataframe tbody tr th {\n",
       "        vertical-align: top;\n",
       "    }\n",
       "\n",
       "    .dataframe thead th {\n",
       "        text-align: right;\n",
       "    }\n",
       "</style>\n",
       "<table border=\"1\" class=\"dataframe\">\n",
       "  <thead>\n",
       "    <tr style=\"text-align: right;\">\n",
       "      <th></th>\n",
       "      <th>Name</th>\n",
       "      <th>Age</th>\n",
       "      <th>IPL teams</th>\n",
       "      <th>Salary</th>\n",
       "    </tr>\n",
       "  </thead>\n",
       "  <tbody>\n",
       "    <tr>\n",
       "      <th>0</th>\n",
       "      <td>Virat</td>\n",
       "      <td>30</td>\n",
       "      <td>GT</td>\n",
       "      <td>10000</td>\n",
       "    </tr>\n",
       "    <tr>\n",
       "      <th>1</th>\n",
       "      <td>Rohit</td>\n",
       "      <td>35</td>\n",
       "      <td>MI</td>\n",
       "      <td>20000</td>\n",
       "    </tr>\n",
       "    <tr>\n",
       "      <th>2</th>\n",
       "      <td>Ravindra</td>\n",
       "      <td>32</td>\n",
       "      <td>CSK</td>\n",
       "      <td>40000</td>\n",
       "    </tr>\n",
       "  </tbody>\n",
       "</table>\n",
       "</div>"
      ],
      "text/plain": [
       "       Name  Age IPL teams  Salary\n",
       "0     Virat   30        GT   10000\n",
       "1     Rohit   35        MI   20000\n",
       "2  Ravindra   32       CSK   40000"
      ]
     },
     "execution_count": 43,
     "metadata": {},
     "output_type": "execute_result"
    }
   ],
   "source": [
    "de[\"Salary\"]=[10000,20000,40000]\n",
    "de"
   ]
  },
  {
   "cell_type": "code",
   "execution_count": 77,
   "id": "030cc9ff",
   "metadata": {},
   "outputs": [
    {
     "data": {
      "text/html": [
       "<div>\n",
       "<style scoped>\n",
       "    .dataframe tbody tr th:only-of-type {\n",
       "        vertical-align: middle;\n",
       "    }\n",
       "\n",
       "    .dataframe tbody tr th {\n",
       "        vertical-align: top;\n",
       "    }\n",
       "\n",
       "    .dataframe thead th {\n",
       "        text-align: right;\n",
       "    }\n",
       "</style>\n",
       "<table border=\"1\" class=\"dataframe\">\n",
       "  <thead>\n",
       "    <tr style=\"text-align: right;\">\n",
       "      <th></th>\n",
       "      <th>Age</th>\n",
       "      <th>IPL teams</th>\n",
       "      <th>Name</th>\n",
       "    </tr>\n",
       "  </thead>\n",
       "  <tbody>\n",
       "    <tr>\n",
       "      <th>0</th>\n",
       "      <td>300</td>\n",
       "      <td>GT</td>\n",
       "      <td>Virat Kohli</td>\n",
       "    </tr>\n",
       "    <tr>\n",
       "      <th>1</th>\n",
       "      <td>305</td>\n",
       "      <td>MI</td>\n",
       "      <td>Rohit Sharma</td>\n",
       "    </tr>\n",
       "    <tr>\n",
       "      <th>2</th>\n",
       "      <td>302</td>\n",
       "      <td>CSK</td>\n",
       "      <td>Ravindra Jadeja</td>\n",
       "    </tr>\n",
       "  </tbody>\n",
       "</table>\n",
       "</div>"
      ],
      "text/plain": [
       "   Age IPL teams             Name\n",
       "0  300        GT      Virat Kohli\n",
       "1  305        MI     Rohit Sharma\n",
       "2  302       CSK  Ravindra Jadeja"
      ]
     },
     "execution_count": 77,
     "metadata": {},
     "output_type": "execute_result"
    }
   ],
   "source": [
    "de[\"Name\"]=[\"Virat Kohli\",\"Rohit Sharma\",\"Ravindra Jadeja\"]\n",
    "de\n",
    "de[\"Age\"]=de[\"Age\"]+10\n",
    "de"
   ]
  },
  {
   "cell_type": "code",
   "execution_count": 79,
   "id": "60942fa3",
   "metadata": {},
   "outputs": [
    {
     "name": "stdout",
     "output_type": "stream",
     "text": [
      "       Name  Age IPL teams\n",
      "0     Virat   30       RCB\n",
      "1     Rohit   35        MI\n",
      "2  Ravindra   32       CSK\n"
     ]
    }
   ],
   "source": [
    "import pandas as pd\n",
    "data = {\"Name\": [\"Virat\", \"Rohit\", \"Ravindra\"],\n",
    "        \"Age\": [30, 35, 32],\n",
    "        \"IPL teams\": [\"RCB\", \"MI\", \"CSK\"]}\n",
    "de=pd.DataFrame(data)\n",
    "print(de)\n"
   ]
  },
  {
   "cell_type": "code",
   "execution_count": 1,
   "id": "b62264f7",
   "metadata": {},
   "outputs": [
    {
     "ename": "NameError",
     "evalue": "name 'de' is not defined",
     "output_type": "error",
     "traceback": [
      "\u001b[1;31m---------------------------------------------------------------------------\u001b[0m",
      "\u001b[1;31mNameError\u001b[0m                                 Traceback (most recent call last)",
      "Cell \u001b[1;32mIn[1], line 1\u001b[0m\n\u001b[1;32m----> 1\u001b[0m de\n",
      "\u001b[1;31mNameError\u001b[0m: name 'de' is not defined"
     ]
    }
   ],
   "source": [
    "de"
   ]
  },
  {
   "cell_type": "code",
   "execution_count": null,
   "id": "f5f1a75b",
   "metadata": {},
   "outputs": [],
   "source": [
    "dw.corr()"
   ]
  },
  {
   "cell_type": "code",
   "execution_count": null,
   "id": "e8f3511a",
   "metadata": {},
   "outputs": [],
   "source": []
  }
 ],
 "metadata": {
  "kernelspec": {
   "display_name": "base",
   "language": "python",
   "name": "python3"
  },
  "language_info": {
   "codemirror_mode": {
    "name": "ipython",
    "version": 3
   },
   "file_extension": ".py",
   "mimetype": "text/x-python",
   "name": "python",
   "nbconvert_exporter": "python",
   "pygments_lexer": "ipython3",
   "version": "3.13.5"
  }
 },
 "nbformat": 4,
 "nbformat_minor": 5
}
