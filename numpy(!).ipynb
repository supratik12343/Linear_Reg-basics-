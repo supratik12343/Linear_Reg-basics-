{
 "cells": [
  {
   "cell_type": "code",
   "execution_count": 2,
   "id": "93b22f06",
   "metadata": {},
   "outputs": [],
   "source": [
    "import numpy as np"
   ]
  },
  {
   "cell_type": "code",
   "execution_count": 4,
   "id": "8e710c51",
   "metadata": {},
   "outputs": [
    {
     "name": "stdout",
     "output_type": "stream",
     "text": [
      "Array 1: [12 45 67]\n",
      "Array 2: [23 56 78]\n"
     ]
    }
   ],
   "source": [
    "arr1=np.array([12,45,67])\n",
    "arr2=np.array([23,56,78])\n",
    "print(\"Array 1:\", arr1)\n",
    "print(\"Array 2:\", arr2)"
   ]
  },
  {
   "cell_type": "code",
   "execution_count": 7,
   "id": "658da64f",
   "metadata": {},
   "outputs": [
    {
     "name": "stdout",
     "output_type": "stream",
     "text": [
      "(3, 3)\n"
     ]
    }
   ],
   "source": [
    "import numpy as np\n",
    "arr=np.array([[1,23,45],[2,34,56],[3,45,67]])\n",
    "print(arr.shape)\n"
   ]
  },
  {
   "cell_type": "code",
   "execution_count": 9,
   "id": "2f809e87",
   "metadata": {},
   "outputs": [
    {
     "data": {
      "text/plain": [
       "array([[1],\n",
       "       [3],\n",
       "       [5],\n",
       "       [7],\n",
       "       [9]])"
      ]
     },
     "execution_count": 9,
     "metadata": {},
     "output_type": "execute_result"
    }
   ],
   "source": [
    "np.arange(1,10,2).reshape(5,1)  # Creates an array with values from 1 to 9 with a step of 2"
   ]
  },
  {
   "cell_type": "code",
   "execution_count": 11,
   "id": "2969e9e0",
   "metadata": {},
   "outputs": [
    {
     "data": {
      "text/plain": [
       "array([[1., 0., 0., 0., 0., 0., 0., 0., 0.],\n",
       "       [0., 1., 0., 0., 0., 0., 0., 0., 0.],\n",
       "       [0., 0., 1., 0., 0., 0., 0., 0., 0.],\n",
       "       [0., 0., 0., 1., 0., 0., 0., 0., 0.],\n",
       "       [0., 0., 0., 0., 1., 0., 0., 0., 0.],\n",
       "       [0., 0., 0., 0., 0., 1., 0., 0., 0.],\n",
       "       [0., 0., 0., 0., 0., 0., 1., 0., 0.],\n",
       "       [0., 0., 0., 0., 0., 0., 0., 1., 0.],\n",
       "       [0., 0., 0., 0., 0., 0., 0., 0., 1.]])"
      ]
     },
     "execution_count": 11,
     "metadata": {},
     "output_type": "execute_result"
    }
   ],
   "source": [
    "np.eye(9)"
   ]
  },
  {
   "cell_type": "code",
   "execution_count": 12,
   "id": "ff6bb541",
   "metadata": {},
   "outputs": [
    {
     "data": {
      "text/plain": [
       "array([[1., 1., 1., 1.],\n",
       "       [1., 1., 1., 1.],\n",
       "       [1., 1., 1., 1.]])"
      ]
     },
     "execution_count": 12,
     "metadata": {},
     "output_type": "execute_result"
    }
   ],
   "source": [
    "np.ones((3, 4))  # Creates a 3x4 array filled with ones"
   ]
  },
  {
   "cell_type": "code",
   "execution_count": 21,
   "id": "3d8ee4fb",
   "metadata": {},
   "outputs": [
    {
     "name": "stdout",
     "output_type": "stream",
     "text": [
      "Array: [[ 1  2  3  4  5  6  3  2 21  1  2  3  4  5  6  7  8  9 10]\n",
      " [11 12 13 14 15 16 17 18 19 20 21 22 23 24 25 26 27 28 29]]\n",
      "Shape: (2, 19)\n",
      "Dimension number: 2\n",
      "Size(No of elements) 38\n",
      "Data type of elements: int64\n",
      "Item size: 8\n",
      "Total bytes consumed by the array: 304\n"
     ]
    }
   ],
   "source": [
    "#Attributes of numpy arrays\n",
    "import numpy as np\n",
    "arr=np.array([[1,2,3,4,5,6,3,2,21,1,2,3,4,5,6,7,8,9,10],[11,12,13,14,15,16,17,18,19,20,21,22,23,24,25,26,27,28,29]])\n",
    "print(\"Array:\", arr)\n",
    "print(\"Shape:\", arr.shape)  # Shape of the array\n",
    "print(\"Dimension number:\",arr.ndim)\n",
    "print(\"Size(No of elements)\",arr.size)\n",
    "print(\"Data type of elements:\", arr.dtype)  # Data type of the elements in the array\n",
    "print(\"Item size:\", arr.itemsize)  # Size of each item in bytes     \n",
    "print(\"Total bytes consumed by the array:\", arr.nbytes)  # Total bytes consumed by the array"
   ]
  },
  {
   "cell_type": "code",
   "execution_count": 23,
   "id": "f9b6bb58",
   "metadata": {},
   "outputs": [
    {
     "name": "stdout",
     "output_type": "stream",
     "text": [
      "ADD [ 7  9 11 13 15]\n",
      "SUBTRACT [-5 -5 -5 -5 -5]\n",
      "MULTIPLY [ 6 14 24 36 50]\n",
      "DIVIDE [0.16666667 0.28571429 0.375      0.44444444 0.5       ]\n",
      "SQUARE ROOT [1.         1.41421356 1.73205081 2.         2.23606798]\n",
      "EXPONENT [  2.71828183   7.3890561   20.08553692  54.59815003 148.4131591 ]\n",
      "LOGARITHM [0.         0.69314718 1.09861229 1.38629436 1.60943791]\n",
      "LOG10 [0.         0.30103    0.47712125 0.60205999 0.69897   ]\n",
      "SINE [ 1.55740772 -2.18503986 -0.14254654  1.15782128 -3.38051501]\n"
     ]
    }
   ],
   "source": [
    "#Vectorized operations\n",
    "import numpy as np\n",
    "arr1 = np.array([1, 2, 3, 4, 5] )\n",
    "arr2 = np.array([6, 7, 8, 9, 10])\n",
    "print(\"ADD\",arr1+arr2)\n",
    "print(\"SUBTRACT\",arr1-arr2)\n",
    "print(\"MULTIPLY\",arr1*arr2)\n",
    "print(\"DIVIDE\",arr1/arr2)      \n",
    "print(\"SQUARE ROOT\",np.sqrt(arr1))\n",
    "print(\"EXPONENT\",np.exp(arr1))  # Exponentiation      \n",
    "print(\"LOGARITHM\",np.log(arr1))  # Natural logarithm\n",
    "print(\"LOG10\",np.log10(arr1))  # Base-10 logarithm      \n",
    "print(\"SINE\",np.tan(arr1))  # Tan function"
   ]
  },
  {
   "cell_type": "code",
   "execution_count": 29,
   "id": "99ca476c",
   "metadata": {},
   "outputs": [
    {
     "data": {
      "text/plain": [
       "array([[ 4,  3,  2],\n",
       "       [ 8,  9, 10]])"
      ]
     },
     "execution_count": 29,
     "metadata": {},
     "output_type": "execute_result"
    }
   ],
   "source": [
    "#Array Indexing and Slicing\n",
    "import numpy as np  \n",
    "arr=np.array([[1,2,3,4,5],[7,5,4,3,2],[6,7,8,9,10]])\n",
    "arr[1:,2:]"
   ]
  },
  {
   "cell_type": "code",
   "execution_count": 46,
   "id": "f09dcaca",
   "metadata": {},
   "outputs": [
    {
     "name": "stdout",
     "output_type": "stream",
     "text": [
      "Original Array:\n",
      " [[ 1  2  3  4]\n",
      " [ 5  6  7  8]\n",
      " [ 9 10 11 12]]\n",
      "First Row: [1 2 3 4]\n",
      "First Column: [1 5 9]\n"
     ]
    },
    {
     "data": {
      "text/plain": [
       "array([[ 6,  7],\n",
       "       [10, 11]])"
      ]
     },
     "execution_count": 46,
     "metadata": {},
     "output_type": "execute_result"
    }
   ],
   "source": [
    "import numpy as np\n",
    "arr=np.array([[1,2,3,4],[5,6,7,8],[9,10,11,12]])\n",
    "print(\"Original Array:\\n\", arr)\n",
    "print(\"First Row:\", arr[0])  # Accessing the first row  \n",
    "print(\"First Column:\", arr[:, 0])  # Accessing the first column\n",
    "arr[1:3,1:3]"
   ]
  },
  {
   "cell_type": "code",
   "execution_count": 51,
   "id": "5cd477f1",
   "metadata": {},
   "outputs": [
    {
     "name": "stdout",
     "output_type": "stream",
     "text": [
      "Original Array:\n",
      " [[1 2 3]\n",
      " [4 5 6]\n",
      " [7 8 9]]\n",
      "[[ 1  2 12]\n",
      " [ 4  5  6]\n",
      " [ 7  8  9]]\n"
     ]
    }
   ],
   "source": [
    "#Modifying Array Elements\n",
    "import numpy as np\n",
    "arr = np.array([[1, 2, 3], [4, 5, 6], [7, 8, 9]])\n",
    "print(\"Original Array:\\n\", arr)\n",
    "arr[0,2]=12\n",
    "print(arr)"
   ]
  },
  {
   "cell_type": "code",
   "execution_count": 57,
   "id": "e1232be0",
   "metadata": {},
   "outputs": [
    {
     "name": "stdout",
     "output_type": "stream",
     "text": [
      "Original Array:\n",
      " [[ 1  2  3  4  5]\n",
      " [ 4  5  6  7  8]\n",
      " [ 7  8  9 10 11]]\n",
      "Modified Array:\n",
      " [[ 1  2  3  4  5]\n",
      " [ 4  5 20  7  8]\n",
      " [ 7  8  9 10 11]]\n"
     ]
    }
   ],
   "source": [
    "#Practise(slicing and indexing\n",
    "import numpy as np\n",
    "arr = np.array([[1, 2, 3,4,5], [4, 5, 6,7,8], [7, 8, 9,10,11]])\n",
    "print(\"Original Array:\\n\", arr)\n",
    "arr[1, 2] = 20   # Modifying a specific element\n",
    "print(\"Modified Array:\\n\", arr)"
   ]
  },
  {
   "cell_type": "code",
   "execution_count": 59,
   "id": "51501a39",
   "metadata": {},
   "outputs": [
    {
     "name": "stdout",
     "output_type": "stream",
     "text": [
      "Original Array:\n",
      " [1 2 3 4 5]\n",
      "Mean: 3.0\n",
      "St deviation: <function std at 0x0000024A306E5620>\n",
      "Normalized Array: [-1.41421356 -0.70710678  0.          0.70710678  1.41421356]\n"
     ]
    }
   ],
   "source": [
    "#stat\n",
    "import numpy as np\n",
    "arr = np.array([1, 2, 3,4,5])\n",
    "print(\"Original Array:\\n\", arr)\n",
    "print(\"Mean:\",np.mean(arr))\n",
    "print(\"St deviation:\",np.std)\n",
    "nor=(arr-np.mean(arr))/np.std(arr)\n",
    "print(\"Normalized Array:\", nor)  # Normalized array"
   ]
  },
  {
   "cell_type": "code",
   "execution_count": null,
   "id": "32546ab4",
   "metadata": {},
   "outputs": [],
   "source": []
  }
 ],
 "metadata": {
  "kernelspec": {
   "display_name": "base",
   "language": "python",
   "name": "python3"
  },
  "language_info": {
   "codemirror_mode": {
    "name": "ipython",
    "version": 3
   },
   "file_extension": ".py",
   "mimetype": "text/x-python",
   "name": "python",
   "nbconvert_exporter": "python",
   "pygments_lexer": "ipython3",
   "version": "3.13.5"
  }
 },
 "nbformat": 4,
 "nbformat_minor": 5
}
